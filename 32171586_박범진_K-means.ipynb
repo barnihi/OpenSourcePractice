{
 "cells": [
  {
   "cell_type": "markdown",
   "id": "58bb8c33",
   "metadata": {},
   "source": [
    "# Numpy을 활용하여 머신러닝 - K-Means 군집화\n",
    "*Objective*\n",
    "* K-Means 알고리즘 개괄 : 대표적인 군집화 방법론 중 하나인 K-Means 알고리즘을 이해합니다.\n",
    "* K-Means 알고리즘 구현 : K-Means 알고리즘을 Numpy로 구현해봅니다.\n"
   ]
  },
  {
   "cell_type": "code",
   "execution_count": 78,
   "id": "9704140f",
   "metadata": {},
   "outputs": [],
   "source": [
    "%matplotlib inline\n",
    "import numpy as np\n",
    "import matplotlib.pyplot as plt\n"
   ]
  },
  {
   "cell_type": "markdown",
   "id": "676d338f",
   "metadata": {},
   "source": [
    "# [1. K-Means 알고리즘 개괄 ]\n",
    "K-Means 알고리즘은 주어진 데이터를 K개의 클러스터로 묶는 '군집화 알고리즘' 중 하나로, 각 클러스터의 중심과 각 데이터 간의 거리 차이의 분산을 최소화하는 방식으로 데이터가 속할 군집을 묶어나갑니다.\n",
    "\n",
    "우선 예제 데이터를 준비합시다.\n",
    "\n",
    "예제 데이터를 시각화해봅시다."
   ]
  },
  {
   "cell_type": "code",
   "execution_count": 97,
   "id": "80f20157",
   "metadata": {},
   "outputs": [],
   "source": [
    "dataset = np.array([[ 1.658985,  4.285136],\n",
    "       [-3.453687,  3.424321],\n",
    "       [ 4.838138, -1.151539],\n",
    "       [-5.379713, -3.362104],\n",
    "       [ 0.972564,  2.924086],\n",
    "       [-3.567919,  1.531611],\n",
    "       [ 0.450614, -3.302219],\n",
    "       [-3.487105, -1.724432],\n",
    "       [ 2.668759,  1.594842],\n",
    "       [-3.156485,  3.191137],\n",
    "       [ 3.165506, -3.999838],\n",
    "       [-2.786837, -3.099354],\n",
    "       [ 4.208187,  2.984927],\n",
    "       [-2.123337,  2.943366],\n",
    "       [ 0.704199, -0.479481],\n",
    "       [-0.39237 , -3.963704],\n",
    "       [ 2.831667,  1.574018],\n",
    "       [-0.790153,  3.343144],\n",
    "       [ 2.943496, -3.357075],\n",
    "       [-3.195883, -2.283926],\n",
    "       [ 2.336445,  2.875106],\n",
    "       [-1.786345,  2.554248],\n",
    "       [ 2.190101, -1.90602 ],\n",
    "       [-3.403367, -2.778288],\n",
    "       [ 1.778124,  3.880832],\n",
    "       [-1.688346,  2.230267],\n",
    "       [ 2.592976, -2.054368],\n",
    "       [-4.007257, -3.207066],\n",
    "       [ 2.257734,  3.387564],\n",
    "       [-2.679011,  0.785119],\n",
    "       [ 0.939512, -4.023563],\n",
    "       [-3.674424, -2.261084],\n",
    "       [ 2.046259,  2.735279],\n",
    "       [-3.18947 ,  1.780269],\n",
    "       [ 4.372646, -0.822248],\n",
    "       [-2.579316, -3.497576],\n",
    "       [ 1.889034,  5.1904  ],\n",
    "       [-0.798747,  2.185588],\n",
    "       [ 2.83652 , -2.658556],\n",
    "       [-3.837877, -3.253815],\n",
    "       [ 2.096701,  3.886007],\n",
    "       [-2.709034,  2.923887],\n",
    "       [ 3.367037, -3.184789],\n",
    "       [-2.121479, -4.232586],\n",
    "       [ 2.329546,  3.179764],\n",
    "       [-3.284816,  3.273099],\n",
    "       [ 3.091414, -3.815232],\n",
    "       [-3.762093, -2.432191],\n",
    "       [ 3.542056,  2.778832],\n",
    "       [-1.736822,  4.241041],\n",
    "       [ 2.127073, -2.98368 ],\n",
    "       [-4.323818, -3.938116],\n",
    "       [ 3.792121,  5.135768],\n",
    "       [-4.786473,  3.358547],\n",
    "       [ 2.624081, -3.260715],\n",
    "       [-4.009299, -2.978115],\n",
    "       [ 2.493525,  1.96371 ],\n",
    "       [-2.513661,  2.642162],\n",
    "       [ 1.864375, -3.176309],\n",
    "       [-3.171184, -3.572452],\n",
    "       [ 2.89422 ,  2.489128],\n",
    "       [-2.562539,  2.884438],\n",
    "       [ 3.491078, -3.947487],\n",
    "       [-2.565729, -2.012114],\n",
    "       [ 3.332948,  3.983102],\n",
    "       [-1.616805,  3.573188],\n",
    "       [ 2.280615, -2.559444],\n",
    "       [-2.651229, -3.103198],\n",
    "       [ 2.321395,  3.154987],\n",
    "       [-1.685703,  2.939697],\n",
    "       [ 3.031012, -3.620252],\n",
    "       [-4.599622, -2.185829],\n",
    "       [ 4.196223,  1.126677],\n",
    "       [-2.133863,  3.093686],\n",
    "       [ 4.668892, -2.562705],\n",
    "       [-2.793241, -2.149706],\n",
    "       [ 2.884105,  3.043438],\n",
    "       [-2.967647,  2.848696],\n",
    "       [ 4.479332, -1.764772],\n",
    "       [-4.905566, -2.91107 ]])"
   ]
  },
  {
   "cell_type": "code",
   "execution_count": 98,
   "id": "4fb5f825",
   "metadata": {},
   "outputs": [
    {
     "data": {
      "image/png": "[encoded data removed]",
      "text/plain": [
       "<Figure size 432x288 with 1 Axes>"
      ]
     },
     "metadata": {
      "needs_background": "light"
     },
     "output_type": "display_data"
    }
   ],
   "source": [
    "# 예제 데이터셋 시각화\n",
    "plt.title(\"The Distribution of Point\")\n",
    "plt.scatter(dataset[:,0],dataset[:,1])\n",
    "plt.show()\n"
   ]
  },
  {
   "cell_type": "markdown",
   "id": "cd34601b",
   "metadata": {},
   "source": [
    "\n",
    "# [ 2.Numpy로 K-Means 구현하기 ]\n",
    "K-means의 알고리즘의 순서는 다음과 같습니다:\n",
    "\n",
    "1. 초기 중심점을 설정하기 위해 K개의 점 임의 생성\n",
    "2. K개의 중심점과 각 데이터 사이의 거리 계산\n",
    "3. 각 데이터를 거리가 가장 가까운 군집으로 할당\n",
    "4. 각 군집 별 점들의 평균을 계산 후, 군집의 중심점을 다시 계산\n",
    "5. 2~4의 과정을 통해 각 데이터 별 군집이 바뀌지 않았으면, 이 과정을 끝냄\n",
    "6. 각 단계를 Numpy로 구현하는 코드를 작성해본 후, 전체 코드를 합쳐보겠습니다.\n",
    "\n",
    "## 1. 각 단계별로 Numpy Code 작성하기\n",
    "### (1) 초기 중심점을 설정하기 위해 K개의 점 임의 생성\n",
    "예제 데이터는두 개의 축으로 표현할 수 있는 데이터입니다. K-means 알고리즘은 데이터 공간에서 임의의 점 K개(여기선 4개)를 랜덤하게 산출하는 데서 시작됩니다. 임의로 산출한다고 하지만, 임의의 중심점 4개는 데이터 셋 부근에 있어야 합니다. 따라서 데이터셋의 범위를 파악하고 그 안에서 임의의 값을 뽑아 점 4개를 생성해보겠습니다.\n",
    "\n",
    "Numpy의 np.random을 이용하면 데이터의 최소 최대값 범위 안에서 지정한 확률 분포에 따라 임의의 값을 추출할 수 있습니다. 예를 들어 위 데이터셋에서 axis=0축 데이터의 범위 안의 수를 동일한 확률로 뽑고 싶다면, 확률 분포를 연속균등분포(uniform)으로 설정하고 샘플링을 하면 됩니다.\n",
    "\n",
    "위와 같은 방법으로 axis=0축과 axis=1축 각각 범위 내 랜덤한 값 K개를 산출합니다.\n",
    "numpy.uniform function을 사용합니다"
   ]
  },
  {
   "cell_type": "code",
   "execution_count": 108,
   "id": "4494f6e9",
   "metadata": {},
   "outputs": [],
   "source": [
    "center_x = np.random.uniform(-6,6,4) ## fix me ##\n",
    "center_y = np.random.uniform(-6,6,4)## fix me ## \n",
    "centroids = np.stack([center_x,center_y],axis=-1)"
   ]
  },
  {
   "cell_type": "code",
   "execution_count": 109,
   "id": "5662ba35",
   "metadata": {},
   "outputs": [
    {
     "data": {
      "image/png": "[encoded data removed]",
      "text/plain": [
       "<Figure size 432x288 with 1 Axes>"
      ]
     },
     "metadata": {
      "needs_background": "light"
     },
     "output_type": "display_data"
    }
   ],
   "source": [
    "\n",
    "# 예제 데이터셋 시각화\n",
    "\n",
    "plt.title(\"The Distribution of Point\")\n",
    "plt.scatter(dataset[:,0],dataset[:,1],label='dataset')\n",
    "plt.scatter(centroids[:,0],centroids[:,1],\n",
    "            s=200, label=\"centroid\", marker='+')\n",
    "plt.legend()\n",
    "plt.show()"
   ]
  },
  {
   "cell_type": "markdown",
   "id": "e1a27c43",
   "metadata": {},
   "source": [
    "\n",
    "### (2) 중심점과 각 데이터 사이의 거리를 계산\n",
    "거리 공식은 KNN 때와 마찬가지로, 아래와 같습니다. 우리는 모든 중심점과 각 데이터 간 거리를 구해야 합니다.\n",
    "Numpy Code의 reshape와 broadcasting을 활용하면 간결하게 나타낼 수 있습니다."
   ]
  },
  {
   "cell_type": "code",
   "execution_count": 110,
   "id": "d17c5f09",
   "metadata": {},
   "outputs": [],
   "source": [
    "## numpy broadcasting 을 활용해 코드 한줄로 모든 centroids 와 모든 데이터간 거리를 계산하세요. \n",
    "dists = np.vstack([np.sqrt(np.sum((dataset-centroids[0:1])**2, axis=1)),np.sqrt(np.sum((dataset-centroids[1:2])**2, axis=1)),np.sqrt(np.sum((dataset-centroids[2:3])**2, axis=1)),np.sqrt(np.sum((dataset-centroids[3:4])**2, axis=1))])"
   ]
  },
  {
   "cell_type": "code",
   "execution_count": 111,
   "id": "ded50865",
   "metadata": {},
   "outputs": [
    {
     "data": {
      "text/plain": [
       "(4, 80)"
      ]
     },
     "execution_count": 111,
     "metadata": {},
     "output_type": "execute_result"
    }
   ],
   "source": [
    "dists.shape # dists 행렬의 형태"
   ]
  },
  {
   "cell_type": "markdown",
   "id": "6f1592ef",
   "metadata": {},
   "source": [
    "\n",
    "### (3) 각 데이터를 거리가 가장 가까운 군집으로 할당\n",
    "각 데이터를 거리가 가장 가까운 군집으로 할당 하기 위해서는, np.argmin을 통해 간단히 구할 수 있습니다."
   ]
  },
  {
   "cell_type": "code",
   "execution_count": 112,
   "id": "ff88cbf1",
   "metadata": {},
   "outputs": [],
   "source": [
    "cluster_per_point = np.argmin(dists, axis=0)## fix me ##"
   ]
  },
  {
   "cell_type": "markdown",
   "id": "68d914c6",
   "metadata": {},
   "source": [
    "\n",
    "### (4) 각 군집 별 점들의 평균을 계산 후, 군집의 중심점을 다시 계산\n",
    "    X = [3, 4, 5, 6]\n",
    "    cluster_index = [1, 1, 0 ,0]\n",
    "\n",
    "    각 군집에 해당하는 데이터들을 가져온 후 평균을 수행합니다. \n",
    "    cluster_index 가 1 인 데이터만 가져와 평균을 수행 \n",
    "    (3 + 4) / 2\n",
    "\n",
    "    cluster_index 가 0 인 데이터만 가져와 평균을 수행 \n",
    "    (5 + 6) / 2"
   ]
  },
  {
   "cell_type": "code",
   "execution_count": 113,
   "id": "f8cfaa04",
   "metadata": {},
   "outputs": [],
   "source": [
    "# 각 군집별로 순회\n",
    "k = 4 \n",
    "for i in range(k):\n",
    "    \n",
    "    # 각 군집에 해당하는 데이터들을 가져옵니다. \n",
    "    target_point = dataset[cluster_per_point==i] ## fix me ##     \n",
    "    \n",
    "    # 각 군집의 평균을 계산해 centroids 에 할당 합니다. \n",
    "    centroids[i] = target_point.mean(axis=0)\n"
   ]
  },
  {
   "cell_type": "markdown",
   "id": "91fe5764",
   "metadata": {},
   "source": [
    "\n",
    "### (5) 2~4의 과정을 통해 각 데이터 별 군집이 바뀌지 않았으면, 이 과정을 끝냄\n",
    "해당 과정은 위에서 작성해 놓은 코드를 활용해야 합니다."
   ]
  },
  {
   "cell_type": "code",
   "execution_count": 114,
   "id": "74e35ef3",
   "metadata": {},
   "outputs": [
    {
     "data": {
      "image/png": "[encoded data removed]",
      "text/plain": [
       "<Figure size 432x288 with 1 Axes>"
      ]
     },
     "metadata": {
      "needs_background": "light"
     },
     "output_type": "display_data"
    },
    {
     "data": {
      "image/png": "[encoded data removed]",
      "text/plain": [
       "<Figure size 432x288 with 1 Axes>"
      ]
     },
     "metadata": {
      "needs_background": "light"
     },
     "output_type": "display_data"
    },
    {
     "data": {
      "image/png": "[encoded data removed]",
      "text/plain": [
       "<Figure size 432x288 with 1 Axes>"
      ]
     },
     "metadata": {
      "needs_background": "light"
     },
     "output_type": "display_data"
    }
   ],
   "source": [
    "num_data = dataset.shape[0]\n",
    "\n",
    "cluster_per_point = np.ones((num_data))\n",
    "\n",
    "counter = 0\n",
    "while True:\n",
    "    prev_cluster_per_point = cluster_per_point    \n",
    "\n",
    "    # (2) 중심점과 각 데이터 사이의 거리를 계산\n",
    "    dists = np.vstack([np.sqrt(np.sum((dataset-centroids[0:1])**2, axis=1)),np.sqrt(np.sum((dataset-centroids[1:2])**2, axis=1)),np.sqrt(np.sum((dataset-centroids[2:3])**2, axis=1)),np.sqrt(np.sum((dataset-centroids[3:4])**2, axis=1))])## fix me ##\n",
    "        \n",
    "    # (3) 각 데이터를 거리가 가장 가까운 군집으로 할당\n",
    "    ## fix me ##\n",
    "    cluster_per_point = np.argmin(dists, axis=0)## fix me ##\n",
    "    # (4) 각 군집 별 점들의 평균을 계산 후, 군집의 중심점을 다시 계산\n",
    "    ## fix me ##            \n",
    "    target_point = dataset[cluster_per_point==i] ## fix me ##\n",
    "    centroids[i] = np.mean(target_point,axis=0) \n",
    "    ## (5) cluster 값이 변하지 않으면 while 구문을 종료(np.all 구문 사용)\n",
    "    if np.all(prev_cluster_per_point == cluster_per_point): ## fix me##:\n",
    "        break\n",
    "        \n",
    "    # 시각화 코드 \n",
    "    counter += 1\n",
    "    plt.title(\"{}th Distribution of Dataset\".format(counter))\n",
    "    for idx, color in enumerate(['r','g','b','y']):\n",
    "        mask = (cluster_per_point==idx)\n",
    "        plt.scatter(dataset[mask,0],dataset[mask,1],\n",
    "                    label='dataset', c=color)\n",
    "        plt.scatter(centroids[:,0],centroids[:,1],\n",
    "                    s=200, label=\"centroid\", marker='+')\n",
    "    plt.show()"
   ]
  },
  {
   "cell_type": "markdown",
   "id": "1ca08198",
   "metadata": {},
   "source": [
    "\n",
    "## 2. 전체 Numpy Code 작성하기\n",
    "* 위에서 작성한 코드를 하나로 묶어 function 으로 생성합니다."
   ]
  },
  {
   "cell_type": "code",
   "execution_count": 146,
   "id": "9e691e87",
   "metadata": {},
   "outputs": [],
   "source": [
    "def cluster_kmeans(dataset, k):\n",
    "    center_x = np.random.uniform(-6,6,4) ## fix me ##\n",
    "    center_y = np.random.uniform(-6,6,4)## fix me ## \n",
    "    centroids = np.stack([center_x,center_y],axis=-1)\n",
    "        \n",
    "    dists = np.vstack([np.sqrt(np.sum((dataset-centroids[0:1])**2, axis=1)),np.sqrt(np.sum((dataset-centroids[1:2])**2, axis=1)),np.sqrt(np.sum((dataset-centroids[2:3])**2, axis=1)),np.sqrt(np.sum((dataset-centroids[3:4])**2, axis=1))])\n",
    "    cluster_per_point = np.argmin(dists, axis=0)\n",
    "    k = 4 \n",
    "    for i in range(k):    \n",
    "        target_point = dataset[cluster_per_point==i] \n",
    "        centroids[i] = target_point.mean(axis=0)\n",
    "        \n",
    "    num_data = dataset.shape[0]\n",
    "    cluster_per_point = np.ones((num_data))\n",
    "    counter = 0\n",
    "    while True:\n",
    "        prev_cluster_per_point = cluster_per_point\n",
    "        dists = np.vstack([np.sqrt(np.sum((dataset-centroids[0:1])**2, axis=1)),np.sqrt(np.sum((dataset-centroids[1:2])**2, axis=1)),np.sqrt(np.sum((dataset-centroids[2:3])**2, axis=1)),np.sqrt(np.sum((dataset-centroids[3:4])**2, axis=1))])## fix me ##\n",
    "        cluster_per_point = np.argmin(dists, axis=0)\n",
    "        target_point = dataset[cluster_per_point==i] \n",
    "        centroids[i] = np.mean(target_point,axis=0) \n",
    "        if np.all(prev_cluster_per_point == cluster_per_point): \n",
    "            break\n",
    "        \n",
    "        counter += 1\n",
    "        plt.title(\"{}th Distribution of Dataset\".format(counter))\n",
    "        for idx, color in enumerate(['r','g','b','y']):\n",
    "            mask = (cluster_per_point==idx)\n",
    "            plt.scatter(dataset[mask,0],dataset[mask,1],\n",
    "                           label='dataset', c=color)\n",
    "            plt.scatter(centroids[:,0],centroids[:,1],\n",
    "                           s=200, label=\"centroid\", marker='+')\n",
    "        plt.show()\n",
    "    return centroids"
   ]
  },
  {
   "cell_type": "code",
   "execution_count": 147,
   "id": "aa6432cb",
   "metadata": {},
   "outputs": [
    {
     "data": {
      "image/png": "[encoded data removed]",
      "text/plain": [
       "<Figure size 432x288 with 1 Axes>"
      ]
     },
     "metadata": {
      "needs_background": "light"
     },
     "output_type": "display_data"
    },
    {
     "data": {
      "image/png": "[encoded data removed]",
      "text/plain": [
       "<Figure size 432x288 with 1 Axes>"
      ]
     },
     "metadata": {
      "needs_background": "light"
     },
     "output_type": "display_data"
    },
    {
     "data": {
      "image/png": "[encoded data removed]",
      "text/plain": [
       "<Figure size 432x288 with 1 Axes>"
      ]
     },
     "metadata": {
      "needs_background": "light"
     },
     "output_type": "display_data"
    },
    {
     "data": {
      "text/plain": [
       "array([[ 3.17492412, -2.67657444],\n",
       "       [-2.82329087,  0.28049374],\n",
       "       [ 2.71358074,  3.11839563],\n",
       "       [-3.38237045, -2.9473363 ]])"
      ]
     },
     "execution_count": 147,
     "metadata": {},
     "output_type": "execute_result"
    }
   ],
   "source": [
    "cluster_kmeans(dataset,4)"
   ]
  }
 ],
 "metadata": {
  "kernelspec": {
   "display_name": "Python 3 (ipykernel)",
   "language": "python",
   "name": "python3"
  },
  "language_info": {
   "codemirror_mode": {
    "name": "ipython",
    "version": 3
   },
   "file_extension": ".py",
   "mimetype": "text/x-python",
   "name": "python",
   "nbconvert_exporter": "python",
   "pygments_lexer": "ipython3",
   "version": "3.8.11"
  }
 },
 "nbformat": 4,
 "nbformat_minor": 5
}
