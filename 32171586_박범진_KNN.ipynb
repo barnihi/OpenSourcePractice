{
 "cells": [
  {
   "cell_type": "markdown",
   "id": "c97a3027",
   "metadata": {},
   "source": [
    "\n",
    "# Numpy을 활용한 머신러닝 구현 - KNN 분류기\n",
    "\n",
    "### *Objective*\n",
    "\n",
    "1. KNN 알고리즘 개괄 : 머신러닝 방법론 중 간단하면서 중요한 방법론인 KNN(K Nearest Neighborhood)의 개념을 배웁니다.\n",
    "2. KNN Numpy로 구현 : Numpy를 이용하여 KNN을 구현해봅니다."
   ]
  },
  {
   "cell_type": "code",
   "execution_count": 19,
   "id": "f05a5e88",
   "metadata": {},
   "outputs": [],
   "source": [
    "%matplotlib inline\n",
    "import numpy as np\n",
    "import matplotlib.pyplot as plt"
   ]
  },
  {
   "cell_type": "markdown",
   "id": "64bf9d82",
   "metadata": {},
   "source": [
    "# [ 1. KNN 알고리즘 개괄 ]"
   ]
  },
  {
   "cell_type": "markdown",
   "id": "f9f1e780",
   "metadata": {},
   "source": [
    "분류 항목을 이미 알고 있는 데이터 집합에서 상위 K개의 가장 유사한 데이터를 살펴보고, K개의 가장 유사한 데이터들 중 다수결(majority vote)를 통해 새로운 데이터의 분류 항목을 결정하는 알고리즘입니다."
   ]
  },
  {
   "cell_type": "code",
   "execution_count": 4,
   "id": "8d9eceb3",
   "metadata": {},
   "outputs": [],
   "source": [
    "# 0번째 열 : 킥 횟수, 1번째 열 : 키스 횟수\n",
    "dataset = np.array([\n",
    "    [3, 104],\n",
    "    [2, 100],\n",
    "    [1, 81],\n",
    "    [101, 10],\n",
    "    [99, 5],\n",
    "    [98, 2],\n",
    "])\n",
    "\n",
    "labels = np.array(['Romance','Romance','Romance',\n",
    "          'Action','Action','Action'])\n",
    "\n",
    "inX = np.array([25, 87])"
   ]
  },
  {
   "cell_type": "code",
   "execution_count": 20,
   "id": "ae995010",
   "metadata": {},
   "outputs": [
    {
     "data": {
      "image/png": "[encoded data removed]",
      "text/plain": [
       "<Figure size 432x288 with 1 Axes>"
      ]
     },
     "metadata": {
      "needs_background": "light"
     },
     "output_type": "display_data"
    }
   ],
   "source": [
    "plt.title(\"The Category of Movie\")\n",
    "plt.scatter(dataset[:3,0],dataset[:3,1],label='Romance',\n",
    "            c='g')\n",
    "plt.scatter(dataset[3:,0],dataset[3:,1],label='Action',\n",
    "            c='r')\n",
    "plt.scatter(25,87,label=\"?\",\n",
    "            c='b')\n",
    "\n",
    "\n",
    "plt.xlabel('The number of Kick')\n",
    "plt.ylabel('The number of Kiss')\n",
    "plt.legend()\n",
    "plt.show()"
   ]
  },
  {
   "cell_type": "markdown",
   "id": "74a9f73a",
   "metadata": {},
   "source": [
    "# [ 2. KNN Numpy로 구현 ]\n",
    "KNN의 알고리즘 순서는 다음과 같습니다.\n",
    "\n",
    "1. 우리가 분류항목을 알고자 하는 점(inX)와 알고 있는 점들(dataset)과의 모든 점 거리를 계산\n",
    "2. 오름 차순으로 거리의 길이를 정렬\n",
    "3. inX와의 거리가 가장 짧은 K개의 아이템 추출\n",
    "4. K개의 아이템에서 가장 많은 분류 항목 찾기\n",
    "5. 해당 항목 반환\n",
    "\n",
    "KNN의 각 단계별로 코드를 작성해 봅시다.\n",
    "\n",
    "## 1. 각 단계별로 Numpy Code 작성하기\n",
    "### (1) 우리가 분류항목을 알고자 하는 점 (inX)와 알고 있는 점들(dataset)과의 모든 점 거리를 계산\n",
    "거리 공식은 아래와 같습니다.\n",
    "\n",
    "우리는 알고자 하는 점(inX)와 알고 있는 점들(dataset) 전부와의 거리를 측정해야 합니다"
   ]
  },
  {
   "cell_type": "markdown",
   "id": "787b9f57",
   "metadata": {},
   "source": [
    "$$\n",
    "point1 = (x_1,y_1), point2 = (x_2,y_2)distance\\_between\\_point1\\_and\\_point2 = \\sqrt{(x_1-x_2)^2 + (y_1-y_2)^2}\n",
    "$$"
   ]
  },
  {
   "cell_type": "code",
   "execution_count": 21,
   "id": "80607d84",
   "metadata": {},
   "outputs": [],
   "source": [
    "\n",
    "# broadcasting을 이용하면 보다 간결하고 빠른 코드를 작성할 수 있습니다.\n",
    "## ⚠️⚠️⚠️ 반복문, 순회문 사용하지 않고 numpy broadcasting 을 사용해 구현하세요. ⚠️⚠️⚠️\n",
    "\n",
    "# 위 정의한 inX와 그 이외의 모든 점들과의 거리를 계산합니다. \n",
    "# 거리는 위 정의한 l2 distance 을 사용합니다. \n",
    "dists = np.sqrt(np.sum((dataset-inX)**2, axis=1))## fix me ##"
   ]
  },
  {
   "cell_type": "markdown",
   "id": "ebb89bc4",
   "metadata": {},
   "source": [
    "### (2) 오름 차순으로 거리의 길이를 정렬"
   ]
  },
  {
   "cell_type": "code",
   "execution_count": 23,
   "id": "97222a65",
   "metadata": {},
   "outputs": [
    {
     "data": {
      "text/plain": [
       "array([2, 1, 0, 3, 4, 5], dtype=int64)"
      ]
     },
     "execution_count": 23,
     "metadata": {},
     "output_type": "execute_result"
    }
   ],
   "source": [
    "# 오름차순으로 정렬된 인덱스 순을 반환\n",
    "# numpy 을 사용해 위 생성한 거리(dists) 에서 거리가 가장 짧은 데이터의 index을 정렬(sort) 합니다. \n",
    "sorted_index = np.lexsort((dists,dists))## fix me ## \n",
    "sorted_index"
   ]
  },
  {
   "cell_type": "markdown",
   "id": "7f87a7da",
   "metadata": {},
   "source": [
    "### (3) inX와의 거리가 가장 짧은 K개의 아이템 추출"
   ]
  },
  {
   "cell_type": "code",
   "execution_count": 10,
   "id": "3be6494d",
   "metadata": {},
   "outputs": [],
   "source": [
    "# 위 생성한 sorted index 을 사용해 거리가 가장 짧은 순서대로 labels 을 나열합니다. \n",
    "sorted_labels = [labels[i] for i in sorted_index]\n",
    "# 위 생성한 sorted_labels 을 활용해 거리가 가장 가까운 k=4 개의 데이터를 가져옵니다. \n",
    "K_nearest_labels = sorted_labels[:4]## fix me ##"
   ]
  },
  {
   "cell_type": "code",
   "execution_count": 24,
   "id": "261a8da9",
   "metadata": {},
   "outputs": [
    {
     "data": {
      "text/plain": [
       "['Romance', 'Romance', 'Romance', 'Action']"
      ]
     },
     "execution_count": 24,
     "metadata": {},
     "output_type": "execute_result"
    }
   ],
   "source": [
    "K_nearest_labels"
   ]
  },
  {
   "cell_type": "markdown",
   "id": "db319362",
   "metadata": {},
   "source": [
    "### (4) K개의 아이템에서 가장 많은 분류 항목 찾기"
   ]
  },
  {
   "cell_type": "code",
   "execution_count": 27,
   "id": "f4e9c2d2",
   "metadata": {},
   "outputs": [
    {
     "data": {
      "text/plain": [
       "{'Romance': 3, 'Action': 1}"
      ]
     },
     "execution_count": 27,
     "metadata": {},
     "output_type": "execute_result"
    }
   ],
   "source": [
    "# K 개의 아이템에서 각 항목이 몇번씩 등작했는지 count합니다. \n",
    "count_dict = {}\n",
    "for label in K_nearest_labels:\n",
    "    count_dict[label] = count_dict.get(label,0) + 1\n",
    "    ## fix me ##\n",
    "\n",
    "count_dict\n"
   ]
  },
  {
   "cell_type": "code",
   "execution_count": 26,
   "id": "89909530",
   "metadata": {},
   "outputs": [
    {
     "name": "stdout",
     "output_type": "stream",
     "text": [
      "Romance\n"
     ]
    }
   ],
   "source": [
    "# 제일 많이 등장한 횟수를 찾아 반환합니다. \n",
    "# 해당 예제에서는 Romance 을 반환해야 합니다. \n",
    "# np.unique 함수를 사용해야 합니다\n",
    "_labels, count_labels = np.unique(K_nearest_labels, return_counts=True)## fix me ## \n",
    "print(_labels[count_labels.argmax()])"
   ]
  },
  {
   "cell_type": "markdown",
   "id": "a8c36a6d",
   "metadata": {},
   "source": [
    "## 2. 전체 Numpy Code 작성하기"
   ]
  },
  {
   "cell_type": "code",
   "execution_count": 14,
   "id": "2a02bbe4",
   "metadata": {},
   "outputs": [],
   "source": [
    "\n",
    "def classify_knn(inX, dataset, labels, K):\n",
    "    dists = np.sqrt(np.sum((dataset-inX)**2, axis=1))\n",
    "    sorted_index = np.lexsort((dists,dists))\n",
    "    sorted_labels = [labels[i] for i in sorted_index]\n",
    "    K_nearest_labels = sorted_labels[:4]\n",
    "    _labels, count_labels = np.unique(K_nearest_labels, return_counts=True)## fix me ## \n",
    "    ## fix me ## \n",
    "    return _labels[count_labels.argmax()]"
   ]
  },
  {
   "cell_type": "code",
   "execution_count": null,
   "id": "4c079931",
   "metadata": {},
   "outputs": [],
   "source": [
    "# 아래 function 이 작동하도록 설계하시오."
   ]
  },
  {
   "cell_type": "code",
   "execution_count": 16,
   "id": "65e56a98",
   "metadata": {},
   "outputs": [
    {
     "data": {
      "text/plain": [
       "'Action'"
      ]
     },
     "execution_count": 16,
     "metadata": {},
     "output_type": "execute_result"
    }
   ],
   "source": [
    "# 킥 횟수가 52번, 키스 횟수가 10번인 작품\n",
    "classify_knn([52, 10], dataset, labels, 4)"
   ]
  },
  {
   "cell_type": "code",
   "execution_count": 17,
   "id": "2f6d2141",
   "metadata": {},
   "outputs": [
    {
     "data": {
      "text/plain": [
       "'Romance'"
      ]
     },
     "execution_count": 17,
     "metadata": {},
     "output_type": "execute_result"
    }
   ],
   "source": [
    "# 킥 횟수가 19번, 키스 횟수가 72번인 작품\n",
    "classify_knn([19, 72], dataset, labels, 4)"
   ]
  }
 ],
 "metadata": {
  "kernelspec": {
   "display_name": "Python 3",
   "language": "python",
   "name": "python3"
  },
  "language_info": {
   "codemirror_mode": {
    "name": "ipython",
    "version": 3
   },
   "file_extension": ".py",
   "mimetype": "text/x-python",
   "name": "python",
   "nbconvert_exporter": "python",
   "pygments_lexer": "ipython3",
   "version": "3.8.8"
  }
 },
 "nbformat": 4,
 "nbformat_minor": 5
}
